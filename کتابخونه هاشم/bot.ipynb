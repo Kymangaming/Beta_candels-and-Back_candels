{
 "cells": [
  {
   "cell_type": "code",
   "execution_count": 1,
   "metadata": {
    "metadata": {}
   },
   "outputs": [
    {
     "ename": "KeyboardInterrupt",
     "evalue": "",
     "output_type": "error",
     "traceback": [
      "\u001b[1;31m---------------------------------------------------------------------------\u001b[0m",
      "\u001b[1;31mKeyboardInterrupt\u001b[0m                         Traceback (most recent call last)",
      "Cell \u001b[1;32mIn[1], line 11\u001b[0m\n\u001b[0;32m      7\u001b[0m \u001b[38;5;28;01mwhile\u001b[39;00m \u001b[38;5;28;01mTrue\u001b[39;00m :\n\u001b[0;32m      9\u001b[0m     \u001b[38;5;28;01mfor\u001b[39;00m i \u001b[38;5;129;01min\u001b[39;00m symbols:\n\u001b[1;32m---> 11\u001b[0m         \u001b[38;5;28;01mif\u001b[39;00m total_positons() \u001b[38;5;241m==\u001b[39m \u001b[38;5;241m0\u001b[39m :\n\u001b[0;32m     12\u001b[0m \n\u001b[0;32m     13\u001b[0m             \u001b[38;5;66;03m# symbol = f'{i}'\u001b[39;00m\n\u001b[0;32m     15\u001b[0m             symbol \u001b[38;5;241m=\u001b[39m \u001b[38;5;124m'\u001b[39m\u001b[38;5;124mBTCUSD.\u001b[39m\u001b[38;5;124m'\u001b[39m\n\u001b[0;32m     17\u001b[0m             price \u001b[38;5;241m=\u001b[39m mt5\u001b[38;5;241m.\u001b[39msymbol_info_tick(symbol)\u001b[38;5;241m.\u001b[39mask\n",
      "\u001b[1;31mKeyboardInterrupt\u001b[0m: "
     ]
    }
   ],
   "source": [
    "\n",
    "from module.hashem import *\n",
    "\n",
    "mt5.initialize()\n",
    "\n",
    "symbols = ['BTCUSD.']\n",
    "\n",
    "while True :\n",
    "\n",
    "    for i in symbols:\n",
    "        \n",
    "        # if total_positons() == 0 :\n",
    "\n",
    "        # symbol = f'{i}'\n",
    "\n",
    "        rsi_position = 0\n",
    "\n",
    "        positions = mt5.positions_get()\n",
    "\n",
    "        for position in positions :\n",
    "            if position._asdict()['comment'] == 'RSI':\n",
    "                rsi_position = 1\n",
    "            \n",
    "\n",
    "\n",
    "        symbol = 'BTCUSD.'\n",
    "        \n",
    "        price = mt5.symbol_info_tick(symbol).ask\n",
    "\n",
    "        kandels = kandel('5m' , 10 , symbol)\n",
    "\n",
    "        if today == 'Sunday' and  rsi_position == 0 and whatKandel('5m' , -3 , symbol) == 'long' and whatKandel('5m' , -4 , symbol) != 'long' and body('5m' , -2 , symbol) < 50 and kandels[-2]['high'] >= moghavemat(symbol) and kandels[-2]['close'] < moghavemat(symbol) and whatKandel('5m' , -1 , symbol) == 'short' and rsi('5m' , symbol) >= 60 and price > average200('5m' , symbol) :\n",
    "            sl = kandels[-2]['high']\n",
    "            tp = price -  ((sl - price) * 2 ) \n",
    "            create_order(symbol , 0.01 ,sell ,price , sl , tp , 'RSI') \n",
    "           \n",
    "\n",
    "\n",
    "\n",
    "\n",
    "\n",
    "\n",
    "    \n",
    "\n",
    "\n",
    "\n",
    "\n",
    "\n",
    "\n",
    "\n",
    "\n",
    "   \n"
   ]
  },
  {
   "cell_type": "code",
   "execution_count": 17,
   "metadata": {},
   "outputs": [
    {
     "data": {
      "text/plain": [
       "False"
      ]
     },
     "execution_count": 17,
     "metadata": {},
     "output_type": "execute_result"
    }
   ],
   "source": [
    "from module.hashem import *\n",
    "\n",
    "\n",
    "today = datetime.datetime.today().strftime('%A')\n",
    "\n",
    "\n",
    "# isBeta('3m' , -1 , 'XAUUSD.' , 0.10)                 ---> True / False\n",
    "\n",
    "# isBack('5m' , -5 , 'down' , 'XAUUSD.')               ---> True / False\n",
    "\n",
    "# today == 'Monday'"
   ]
  }
 ],
 "metadata": {
  "kernelspec": {
   "display_name": "Python 3",
   "language": "python",
   "name": "python3"
  },
  "language_info": {
   "codemirror_mode": {
    "name": "ipython",
    "version": 3
   },
   "file_extension": ".py",
   "mimetype": "text/x-python",
   "name": "python",
   "nbconvert_exporter": "python",
   "pygments_lexer": "ipython3",
   "version": "3.12.2"
  }
 },
 "nbformat": 4,
 "nbformat_minor": 2
}
